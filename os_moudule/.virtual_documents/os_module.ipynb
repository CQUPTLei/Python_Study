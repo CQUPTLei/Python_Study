


import os








# os.mkdir('test')
os.listdir('.')


os.makedirs('test')



os.rmdir('test')












