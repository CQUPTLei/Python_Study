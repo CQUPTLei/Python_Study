{
 "cells": [
  {
   "cell_type": "markdown",
   "id": "ca34a5b0-d8f8-4f94-93c4-bd347c376560",
   "metadata": {},
   "source": [
    "# OS 模块\n",
    "\n",
    "`os` 模块是 Python 标准库的一部分，它提供了与操作系统交互的功能。\n",
    "\n",
    "模块中包含了文件和目录操作、环境变量管理、系统信息获取等功能。"
   ]
  },
  {
   "cell_type": "code",
   "execution_count": 10,
   "id": "458f38e1-b059-45b8-a3ec-741be6a4c6ec",
   "metadata": {},
   "outputs": [],
   "source": [
    "import os"
   ]
  },
  {
   "cell_type": "markdown",
   "id": "599c85e9-1feb-4fee-9dcb-4b75e861f864",
   "metadata": {},
   "source": [
    "# 1. 文件和目录操作"
   ]
  },
  {
   "cell_type": "markdown",
   "id": "736aac59-8e55-4ad0-948d-838856b28ed4",
   "metadata": {},
   "source": [
    "## 1.1 创建和删除目录"
   ]
  },
  {
   "cell_type": "code",
   "execution_count": 15,
   "id": "2b1e364a-7dbb-4ab2-a88f-2e56cfe6cd9e",
   "metadata": {},
   "outputs": [
    {
     "ename": "FileExistsError",
     "evalue": "[WinError 183] 当文件已存在时，无法创建该文件。: 'test'",
     "output_type": "error",
     "traceback": [
      "\u001b[1;31m---------------------------------------------------------------------------\u001b[0m",
      "\u001b[1;31mFileExistsError\u001b[0m                           Traceback (most recent call last)",
      "Cell \u001b[1;32mIn[15], line 1\u001b[0m\n\u001b[1;32m----> 1\u001b[0m os\u001b[38;5;241m.\u001b[39mmkdir(\u001b[38;5;124m'\u001b[39m\u001b[38;5;124mtest\u001b[39m\u001b[38;5;124m'\u001b[39m)\n\u001b[0;32m      2\u001b[0m os\u001b[38;5;241m.\u001b[39mlistdir(\u001b[38;5;124m'\u001b[39m\u001b[38;5;124m../\u001b[39m\u001b[38;5;124m'\u001b[39m)\n",
      "\u001b[1;31mFileExistsError\u001b[0m: [WinError 183] 当文件已存在时，无法创建该文件。: 'test'"
     ]
    }
   ],
   "source": [
    "os.mkdir('test')\n",
    "os.listdir('../')"
   ]
  },
  {
   "cell_type": "code",
   "execution_count": 13,
   "id": "8c4fb9b1-7aba-4150-8906-ab398f897254",
   "metadata": {},
   "outputs": [
    {
     "ename": "FileExistsError",
     "evalue": "[WinError 183] 当文件已存在时，无法创建该文件。: 'test'",
     "output_type": "error",
     "traceback": [
      "\u001b[1;31m---------------------------------------------------------------------------\u001b[0m",
      "\u001b[1;31mFileExistsError\u001b[0m                           Traceback (most recent call last)",
      "Cell \u001b[1;32mIn[13], line 1\u001b[0m\n\u001b[1;32m----> 1\u001b[0m os\u001b[38;5;241m.\u001b[39mmakedirs(\u001b[38;5;124m'\u001b[39m\u001b[38;5;124mtest\u001b[39m\u001b[38;5;124m'\u001b[39m)\n",
      "File \u001b[1;32m<frozen os>:225\u001b[0m, in \u001b[0;36mmakedirs\u001b[1;34m(name, mode, exist_ok)\u001b[0m\n",
      "\u001b[1;31mFileExistsError\u001b[0m: [WinError 183] 当文件已存在时，无法创建该文件。: 'test'"
     ]
    }
   ],
   "source": [
    "os.makedirs('test')\n"
   ]
  },
  {
   "cell_type": "code",
   "execution_count": 15,
   "id": "db59d8ef-c86e-434a-9d59-5dd01b6420b2",
   "metadata": {},
   "outputs": [],
   "source": [
    "os.rmdir('test')"
   ]
  },
  {
   "cell_type": "markdown",
   "id": "5ac6bdb8-fe9f-4621-8017-624e370ae731",
   "metadata": {},
   "source": [
    "## 1.2 文件操作"
   ]
  },
  {
   "cell_type": "code",
   "execution_count": null,
   "id": "c30b1b6c-aec0-43e1-b082-88550c0a524d",
   "metadata": {},
   "outputs": [],
   "source": []
  },
  {
   "cell_type": "code",
   "execution_count": null,
   "id": "de509b21-7291-436a-b72e-bc4948f5e26d",
   "metadata": {},
   "outputs": [],
   "source": []
  },
  {
   "cell_type": "code",
   "execution_count": null,
   "id": "c12999a0-dd52-4c95-bdf6-dc04ce47d40e",
   "metadata": {},
   "outputs": [],
   "source": []
  }
 ],
 "metadata": {
  "kernelspec": {
   "display_name": "Python 3 (ipykernel)",
   "language": "python",
   "name": "python3"
  },
  "language_info": {
   "codemirror_mode": {
    "name": "ipython",
    "version": 3
   },
   "file_extension": ".py",
   "mimetype": "text/x-python",
   "name": "python",
   "nbconvert_exporter": "python",
   "pygments_lexer": "ipython3",
   "version": "3.12.4"
  }
 },
 "nbformat": 4,
 "nbformat_minor": 5
}
